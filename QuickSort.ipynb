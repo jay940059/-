{
 "cells": [
  {
   "cell_type": "markdown",
   "metadata": {},
   "source": [
    "原本預想的QuickSort是運用其他的list去分辨大或小然後再做整理\n",
    "但後來經過參考網路上的方法使用了這個比較困難但也比較快的方法\n",
    "這個方法是運用最左邊及最右邊的代理人\n",
    "依序尋找比基準點大(左邊代理人)跟比基準點小(右邊代理人)\n",
    "當找到的時候就互換位置\n",
    "而當左邊代理人遇到右邊代理人時就變成了基準點\n",
    "然後基準點的左邊跟右邊依序做上面的步驟就會完成Sort的步驟了!"
   ]
  },
  {
   "cell_type": "code",
   "execution_count": 1,
   "metadata": {},
   "outputs": [],
   "source": [
    "def QuickSort(data,left,right): #(整個list,data最左邊，data最右邊)\n",
    "    if left >= right: #如果左邊的值大於等於右邊的值就跳出迴圈\n",
    "        return\n",
    "        \n",
    "    a = left #左邊代理人\n",
    "    b = right #右邊代理人\n",
    "    key = data[left] #以最左邊為基準點\n",
    "        \n",
    "    while a != b: #左邊代理人不等於右邊代理人時就會繼續\n",
    "        while  data[b] > key and a < b: #當找到比基準點小的就會進到下一個程式\n",
    "            b -= 1\n",
    "                \n",
    "        while data[a] <= key and a< b: #找到比基準點大的就會進到下一個程式\n",
    "            a += 1\n",
    "                \n",
    "        if a < b : #如果左邊代理人大於右邊代理人的話就互換\n",
    "            data[a] , data[b] = data[b] , data[a]\n",
    "                \n",
    "    data[left] = data[a] #轉移基準點\n",
    "    data[a] = key\n",
    "        \n",
    "    QuickSort(data,left,a-1) #處理基準點左邊的List\n",
    "    QuickSort(data,a+1,right) #處理基準點右邊的List"
   ]
  },
  {
   "cell_type": "code",
   "execution_count": 2,
   "metadata": {},
   "outputs": [],
   "source": [
    "data = [5,10,8,3,2,-5, -6,100,99]"
   ]
  },
  {
   "cell_type": "code",
   "execution_count": 3,
   "metadata": {},
   "outputs": [],
   "source": [
    "QuickSort(data,0,len(data)-1)"
   ]
  },
  {
   "cell_type": "code",
   "execution_count": 4,
   "metadata": {},
   "outputs": [
    {
     "name": "stdout",
     "output_type": "stream",
     "text": [
      "[-6, -5, 2, 3, 5, 8, 10, 99, 100]\n"
     ]
    }
   ],
   "source": [
    "print(data)"
   ]
  }
 ],
 "metadata": {
  "kernelspec": {
   "display_name": "Python 3",
   "language": "python",
   "name": "python3"
  },
  "language_info": {
   "codemirror_mode": {
    "name": "ipython",
    "version": 3
   },
   "file_extension": ".py",
   "mimetype": "text/x-python",
   "name": "python",
   "nbconvert_exporter": "python",
   "pygments_lexer": "ipython3",
   "version": "3.7.1"
  }
 },
 "nbformat": 4,
 "nbformat_minor": 2
}
