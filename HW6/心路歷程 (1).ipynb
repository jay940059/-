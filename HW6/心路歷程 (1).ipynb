{
 "cells": [
  {
   "cell_type": "markdown",
   "metadata": {},
   "source": [
    "Dijkstra 為最短路徑搜尋，也就是說把一張圖想像成道路地圖，把圖上的點想像成地點，把圖上的邊想像成道路，把權重想像成道路的長度。若兩點之間以邊相連，表示兩個地點之間有一條道路，道路的長度是邊的權重。\n",
    "圖上任取兩點，分別作為起點和終點，我們可以規劃許多條由起點到終點的路線。不會來來回回繞圈子、不會重覆經過同一個點和同一條邊的路線，就是一條「路徑」。\n",
    "有時候會遇到cycle的問題，這樣我們就必須運用程式碼去解決這些問題\n",
    "看過影片後覺得很有趣沒有那麼困難"
   ]
  },
  {
   "cell_type": "markdown",
   "metadata": {},
   "source": [
    "因為剛剛再打程式碼有點沒時間打心路歷程，總之祝福大家新年快樂"
   ]
  }
 ],
 "metadata": {
  "kernelspec": {
   "display_name": "Python 3",
   "language": "python",
   "name": "python3"
  },
  "language_info": {
   "codemirror_mode": {
    "name": "ipython",
    "version": 3
   },
   "file_extension": ".py",
   "mimetype": "text/x-python",
   "name": "python",
   "nbconvert_exporter": "python",
   "pygments_lexer": "ipython3",
   "version": "3.7.1"
  }
 },
 "nbformat": 4,
 "nbformat_minor": 2
}
