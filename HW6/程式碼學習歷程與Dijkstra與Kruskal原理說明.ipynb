{
 "cells": [
  {
   "cell_type": "markdown",
   "metadata": {},
   "source": [
    "<h2>Dijkstra 原理說明 <h2>"
   ]
  },
  {
   "cell_type": "markdown",
   "metadata": {},
   "source": [
    "我個人是從youtube上面理解的 <br>\n",
    "是能夠算出其中一個點到其他點的最短路徑的方法 <br>\n",
    "程式碼的部分也是從youtube上理解觀念後再自己寫出來的 <br>"
   ]
  },
  {
   "cell_type": "code",
   "execution_count": null,
   "metadata": {},
   "outputs": [],
   "source": [
    "def Dijkstra(self, s): \n",
    "        dist = g.graph[s]\n",
    "        for i in range(len(dist)):\n",
    "            if dist[i] == 0:\n",
    "                dist[i] = float('inf') #這代表無限大的意思"
   ]
  },
  {
   "cell_type": "markdown",
   "metadata": {},
   "source": [
    "首先先把原點的那一欄提取出來 <br>\n",
    "並且把所有是0的都變成無限大"
   ]
  },
  {
   "cell_type": "code",
   "execution_count": null,
   "metadata": {},
   "outputs": [],
   "source": [
    "        finish = [] #如果處理完的點就放進來\n",
    "        while len(finish) != len(dist): #當所有點都處理完就跳開\n",
    "            dist[s] = float('inf') #把自己這個點設為無限大\n",
    "            Minlist = sorted(dist) #Minlist 是 dist 按照順序排好 Minlist = [4,8,x,x,x,x,x,x,x]\n",
    "            Min = 0 #第一個是最小的\n",
    "            for i in range(len(Minlist)-1): #要從目前距離原點最短的點開始找\n",
    "                if Minlist[Min] in finish: #如果這個點已經在finish裡面就換下一個\n",
    "                    Min+=1\n",
    "\n",
    "            MinVal = Minlist[Min] #MinVal = 4\n",
    "            finish.append(MinVal)\n",
    "            lista = g.graph[dist.index(MinVal)] #把lista調出來 lista = [4,0,8,0,0,0,0,11,0]\n",
    "            lista = [i+MinVal for i in lista] #讓lista全部都加過在dist中min的值 lista = [8,4,12,4,4,4,4,15,4]\n",
    "\n",
    "            for k in range(len(dist)):\n",
    "                if lista[k] == MinVal:\n",
    "                    continue\n",
    "                if lista[k] < dist[k]:\n",
    "                    dist[k] = lista[k]\n",
    "            dist[s] = 0\n",
    "        dicta = {str(i):dist[i] for i in range(0, len(dist))}\n",
    "\n",
    "        return dicta"
   ]
  },
  {
   "cell_type": "markdown",
   "metadata": {},
   "source": [
    "接下來就是結尾程式碼的部分 <br>\n",
    "先把目前距離原點最短的點找出來 <br>\n",
    "並且檢查他是不是已經做完了，不然會造成cycle <br>\n",
    "如果他沒有在finish裡面，就把他的那一欄加上他這個目前的距離(代表原點到那些點目前的距離) <br>\n",
    "在跟現在做完的比較，如果比較小就取代，比較大就放棄 <br>\n",
    "持續這樣做直到所有的點處理完畢"
   ]
  },
  {
   "cell_type": "markdown",
   "metadata": {},
   "source": [
    "<h2>Kruskal 原理說明 <h2>"
   ]
  },
  {
   "cell_type": "markdown",
   "metadata": {},
   "source": [
    "Kruskal 是最小生成樹的方法\n",
    "運用不斷尋找最小邊的方法完成"
   ]
  },
  {
   "cell_type": "code",
   "execution_count": null,
   "metadata": {},
   "outputs": [],
   "source": [
    "    def Kruskal(self):\n",
    "        answer = [] #裝答案的list\n",
    "        finish = [] #裝完成的list\n",
    "        dicta = {} #最後要return的dict\n",
    "        for i in g.graph: #把所有邊先放到answer裡面並且按照順序排好\n",
    "            for a in i:\n",
    "                if a != 0:\n",
    "                    answer.append(a)\n",
    "        answer.sort()\n",
    "        for i in answer: #從最小的邊開始找\n",
    "            for a in range(len(g.graph)-1): #每個點都要看過一次\n",
    "                if i in g.graph[a]: #如果這個邊出現在這個點\n",
    "                    if g.graph[a].index(i): \n",
    "                        if g.graph[a].index(i) in finish and a in finish: #但如果這個點已經出現過就break\n",
    "                            break\n",
    "                        else:\n",
    "                            finish.append(a) #沒出現過就加進去\n",
    "                            finish.append(g.graph[a].index(i))\n",
    "                            dicta[str(a)+'-'+str(g.graph[a].index(i))]=i #並且dicta裡面再加上去\n",
    "        return(dicta)"
   ]
  },
  {
   "cell_type": "markdown",
   "metadata": {},
   "source": [
    "<h2>作業心得 <h2>"
   ]
  },
  {
   "cell_type": "markdown",
   "metadata": {},
   "source": [
    "此次作業我認為很有挑戰性 <br>\n",
    "也都能更加深入理解資料結構這門課並不會那麼難去理解 <br>\n",
    "只是需要時間跟清晰的腦袋 <br>\n",
    "雖然此次作業我寫完了以後被助教測出是錯誤，但我這邊自己測都對的 <br>\n",
    "我這堂課被當掉的機會更大的 <br>\n",
    "但我覺得我收穫良多 <br>\n",
    "也希望助教有時間的話能寄我錯誤的樣子給我看 <br>\n",
    "不然我都不知道哪裡出錯了 <br>"
   ]
  }
 ],
 "metadata": {
  "kernelspec": {
   "display_name": "Python 3",
   "language": "python",
   "name": "python3"
  },
  "language_info": {
   "codemirror_mode": {
    "name": "ipython",
    "version": 3
   },
   "file_extension": ".py",
   "mimetype": "text/x-python",
   "name": "python",
   "nbconvert_exporter": "python",
   "pygments_lexer": "ipython3",
   "version": "3.7.1"
  }
 },
 "nbformat": 4,
 "nbformat_minor": 2
}
