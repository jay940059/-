{
 "cells": [
  {
   "cell_type": "markdown",
   "metadata": {},
   "source": [
    "在整個寫BST的過程其實沒有那麼困難，因為我覺得他跟linked list的使用方式很像 <br>\n",
    "所以很容易轉過來"
   ]
  },
  {
   "cell_type": "markdown",
   "metadata": {},
   "source": [
    "一開始最容易思考的就是insert <br>\n",
    "只要不斷的去看有沒有符合他的位子並且放進去就好了 <br>\n",
    "所以沒有遇到甚麼困難的部分"
   ]
  },
  {
   "cell_type": "code",
   "execution_count": null,
   "metadata": {},
   "outputs": [],
   "source": [
    "#insert 的部分\n",
    "def insert(self, root, val): #增加\n",
    "        \n",
    "        if root is not None: #如果有root\n",
    "            if val > root.val: #輸入的值大於 root\n",
    "                if root.right is None: #如果右邊沒有東西\n",
    "                    root.right = TreeNode(val) #給予她右邊的值\n",
    "                    return(root.right) #回傳值\n",
    "                else: #如果右邊有東西\n",
    "                    root = root.right #繼續尋找\n",
    "                    return(Solution().insert(root,val))\n",
    "            if val <= root.val: #左邊也是一樣的概念\n",
    "                if root.left is None:\n",
    "                    root.left = TreeNode(val)\n",
    "                    return(root.left)\n",
    "                else:\n",
    "                    root = root.left\n",
    "                    return(Solution().insert(root,val))\n",
    "                \n",
    "        else:\n",
    "            root = TreeNode(val) #如果原本就沒東西直接變root\n",
    "            return root"
   ]
  },
  {
   "cell_type": "markdown",
   "metadata": {},
   "source": [
    "會了insert以後 <br>\n",
    "search的概念也很好理解<br>\n",
    "只要不斷的去比較大小並且尋找相同的值就好了"
   ]
  },
  {
   "cell_type": "code",
   "execution_count": null,
   "metadata": {},
   "outputs": [],
   "source": [
    "# search 的部分\n",
    "def search(self, root, target):\n",
    "        \n",
    "        if root is None: #如果root是None直接回傳\n",
    "            return \n",
    "        \n",
    "        elif root.val > target: #如果輸入的值小於root\n",
    "            root = root.left #從左邊繼續尋找\n",
    "            return Solution().search(root,target)\n",
    "        \n",
    "        elif root.val < target: #如果輸入的值大於root\n",
    "            root = root.right #從右邊繼續尋找\n",
    "            return Solution().search(root,target)\n",
    "        \n",
    "        elif root.val == target: #如果想等就回傳\n",
    "            return root\n"
   ]
  },
  {
   "cell_type": "markdown",
   "metadata": {},
   "source": [
    "最難的就是delete的部分 <br>\n",
    "所以我還是參考了網路上的方法並且去理解 <br>\n",
    "那delete的部分需要很多時間去消化 <br>\n",
    "即使我後來重新寫了第二次以後，還是稍微有些不解的地方。 <br>\n",
    "最難理解的就是要去理解每一個return的值會是甚麼 <br>"
   ]
  },
  {
   "cell_type": "code",
   "execution_count": null,
   "metadata": {},
   "outputs": [],
   "source": [
    "# delete 的部分\n",
    "def delete(self, root, target):\n",
    "        a = Solution().search(root,target)\n",
    "        while a is not None: #如果搜尋的到就繼續做\n",
    "        \n",
    "            if root is None: #如果root沒東西就直接回傳\n",
    "                return root\n",
    "        \n",
    "            if root.val > target : #如果輸入值小於root\n",
    "                root.left = Solution().delete(root.left,target) #繼續從左邊繼續找\n",
    "        \n",
    "            elif  root.val < target : #如果輸入值大於root\n",
    "                root.right = Solution().delete(root.right,target) #繼續從右邊繼續找\n",
    "        \n",
    "            else: #當找到值的時候\n",
    "                if root.left is None : #如果左邊是None\n",
    "                    temp = root.right \n",
    "                    root = None #刪掉root值\n",
    "                    return temp #回傳temp值\n",
    "            \n",
    "                if root.right is None :\n",
    "                    temp = root.left\n",
    "                    root = None\n",
    "                    return temp\n",
    "        \n",
    "                change = Solution().SmallNode(root.right) #要交換的值就是右邊最小的\n",
    "                root.val = change.val #交換值\n",
    "                root.right = Solution().delete(root.right,change.val) #刪掉剛剛交換的值\n",
    "            a = Solution().search(root,target)\n",
    "        return root\n"
   ]
  },
  {
   "cell_type": "markdown",
   "metadata": {},
   "source": [
    "最後是modify的部分 <br>\n",
    "那我就只是先算出target總共有幾個 <br>\n",
    "並且全部刪掉 <br>\n",
    "再重新加回去新的值 <br>"
   ]
  },
  {
   "cell_type": "code",
   "execution_count": null,
   "metadata": {},
   "outputs": [],
   "source": [
    "#modify 的部分\n",
    "def modify(self, root, target, new_val):\n",
    "        count = 0 #假設一個變數為 0\n",
    "        temp = Solution().search(root,target) #temp為target的位置\n",
    "        while temp is not None and temp.val == target: #如果等於target，count的值就 +1\n",
    "            count += 1\n",
    "            temp = temp.left #繼續從左邊找\n",
    "            \n",
    "        Solution().delete(root,target) #把全部都刪掉\n",
    "        \n",
    "        for i in range(count): #加上被刪掉的值\n",
    "            Solution().insert(root,new_val)\n",
    "        return root"
   ]
  },
  {
   "cell_type": "markdown",
   "metadata": {},
   "source": [
    "那還有可以把整個樹印出來的方式 <br>\n",
    "在做檢查的時候很方便"
   ]
  },
  {
   "cell_type": "code",
   "execution_count": null,
   "metadata": {},
   "outputs": [],
   "source": [
    "#把樹印出來的部分\n",
    "def PrintTree(self): #把tree整個印出來\n",
    "        if self.left:\n",
    "            self.left.PrintTree()#先印最小的\n",
    "        print(self.val)#印root\n",
    "        if self.right:\n",
    "            self.right.PrintTree()#在印大的\n",
    "            "
   ]
  },
  {
   "cell_type": "markdown",
   "metadata": {},
   "source": [
    "在印出來的時候有要算出最小值的部分"
   ]
  },
  {
   "cell_type": "code",
   "execution_count": null,
   "metadata": {},
   "outputs": [],
   "source": [
    "#算出最小的部分\n",
    "def SmallNode(self,root): #計算最小的功能\n",
    "        \n",
    "        small = root\n",
    "        if small.left is not None: #一直從左邊尋找\n",
    "            small = small.left\n",
    "            return(Solution().SmallNode(small))\n",
    "        return small"
   ]
  },
  {
   "cell_type": "markdown",
   "metadata": {},
   "source": [
    "我覺得整個bst理解的過程並不困難，如果有認真學習過之前linked list的話 <br>\n",
    "可以更快速的理解 <br>\n",
    "但還是有些老師出的限制並沒有實現 <br>\n",
    "希望未來能夠更增強自己的實力去完成這些限制 <br>"
   ]
  }
 ],
 "metadata": {
  "kernelspec": {
   "display_name": "Python 3",
   "language": "python",
   "name": "python3"
  },
  "language_info": {
   "codemirror_mode": {
    "name": "ipython",
    "version": 3
   },
   "file_extension": ".py",
   "mimetype": "text/x-python",
   "name": "python",
   "nbconvert_exporter": "python",
   "pygments_lexer": "ipython3",
   "version": "3.7.1"
  }
 },
 "nbformat": 4,
 "nbformat_minor": 2
}
