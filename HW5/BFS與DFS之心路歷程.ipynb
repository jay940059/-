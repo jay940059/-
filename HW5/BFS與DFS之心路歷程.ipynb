{
 "cells": [
  {
   "cell_type": "markdown",
   "metadata": {},
   "source": [
    "廣度優先搜索(Breadth-First-Search)和深度優先搜索(Deep-First-Search)是搜索策略中最經常用到的兩種方法\n",
    "特別常用於圖的搜索。其中有很多的算法都用到了這兩種思想"
   ]
  },
  {
   "cell_type": "markdown",
   "metadata": {},
   "source": [
    "BFS原理的部分\n",
    "從一個圖的某一個頂點V0出發，\n",
    "首先訪問和V0相鄰的且未被訪問過的頂點V1、V2、……Vn\n",
    "然後依次訪問與V1、V2……Vn相鄰且未被訪問的頂點。\n",
    "如此繼續，找到所要找的頂點或者遍歷完整個圖。\n",
    "由此可以看出，用BFS進行搜索所搜索的頂點都是按深度進行擴展的，先找到到V0距離為1的所有頂點\n",
    "然後找到距離V0為2的頂點……所以BFS所搜索到的都是最短的路徑。\n",
    "由於要將距離V0為d(d>0)的且未被方位的點都記錄起來，我們採用隊列這種數據結構。\n",
    "隊列的特點是先進先出(FIFO)，從某個頂點出發，記此頂點已訪問標記，然後依次搜索和此頂點相鄰的且未被訪問的頂點\n",
    "將其加入隊列，並置已訪問標記\n",
    "重複此步驟，直到找到需要搜索的頂點或者所有的頂點都被訪問為止。"
   ]
  },
  {
   "cell_type": "code",
   "execution_count": null,
   "metadata": {},
   "outputs": [],
   "source": [
    "class Graph:\n",
    "    # Constructor \n",
    "    def __init__(self): \n",
    "        # default dictionary to store graph \n",
    "        self.graph = defaultdict(list) "
   ]
  },
  {
   "cell_type": "markdown",
   "metadata": {},
   "source": [
    "一開始先設定函數，可以自己製作出默認的dict"
   ]
  },
  {
   "cell_type": "code",
   "execution_count": null,
   "metadata": {},
   "outputs": [],
   "source": [
    "    def addEdge(self,u,v):\n",
    "        self.graph[u].append(v) "
   ]
  },
  {
   "cell_type": "markdown",
   "metadata": {},
   "source": [
    "增加的圖案的方式"
   ]
  },
  {
   "cell_type": "code",
   "execution_count": null,
   "metadata": {},
   "outputs": [],
   "source": [
    "    def BFS(self, s):\n",
    "        num = s #設定一個num變數\n",
    "        answer = [] #裝答案的list\n",
    "        queue = [] #裝還未尋訪的list\n",
    "        queue.append(num)\n",
    "        while len(queue) != 0: #如果queue的長度不是0就繼續做下去\n",
    "            \n",
    "            for i in self.graph[num]: #把有連接到num的數都印出來\n",
    "                if i not in answer and i != num: #如果數有在answer或是等於目前在使用的數就不加進queue\n",
    "                    queue.append(i)\n",
    "            if queue[0] not in answer:        \n",
    "                answer.append(queue[0]) #答案加上queue的第一個數\n",
    "            \n",
    "            del queue[0] #並且刪掉\n",
    "            if len(queue) != 0: #如果queue長度不等於0\n",
    "                num = queue[0] #設定num變數為新的queue的第一個\n",
    "            else:\n",
    "                return answer  #如果queue長度是0的話，代表已經尋訪完畢直接回傳\n",
    "        return answer            "
   ]
  },
  {
   "cell_type": "code",
   "execution_count": null,
   "metadata": {},
   "outputs": [],
   "source": [
    "BFS程式碼實現的部分\n",
    "先設置了兩個list\n",
    "當使用者輸入了數字以後，便把這個數字所連接到的所有數字放進queue裡面\n",
    "再把第一個數字刪掉並且放進answer裡面\n",
    "並且重複上述步驟\n",
    "但假如要放進answer的數字已經出現過在answer裡面\n",
    "就不要放進去\n"
   ]
  },
  {
   "cell_type": "markdown",
   "metadata": {},
   "source": [
    "DFS 原理的部分\n",
    "顧名思義，深度優先搜索所遵循的策略就是儘可能「深」的在圖中進行搜索\n",
    "對於圖中某一個頂點V，如果它還有相鄰的頂點且未被訪問，則訪問此頂點。\n",
    "如果找不到，則返回到上一個頂點。\n",
    "這一過程一直進行直到所有的頂點都被訪問為止。 \n",
    "DFS可以搜索出從某一個頂點到另外的一個頂點的所有路徑。"
   ]
  },
  {
   "cell_type": "code",
   "execution_count": null,
   "metadata": {},
   "outputs": [],
   "source": [
    "    def DFS(self, s):\n",
    "\n",
    "        answer = [] #放answer的list\n",
    "        stack = [] #堆疊的list\n",
    "        stack.append(s) #把輸入的數加進堆疊中\n",
    "        while len(stack) != 0: #如果堆疊的長度不為0就繼續做\n",
    "            a = stack.pop() #設定一個變數a為stack的最後一個\n",
    "            answer.append(a) #並且加到answer裡面\n",
    "            for i in self.graph[a]: #把跟a有聯繫的數字加進堆疊裡面\n",
    "                if i not in answer: #如果有在answer裡面的就不加進去\n",
    "                    stack.append(i) \n",
    "            if len(stack) == 0: #如果堆疊被掏空了\n",
    "                    return answer #就回傳\n"
   ]
  },
  {
   "cell_type": "code",
   "execution_count": null,
   "metadata": {},
   "outputs": [],
   "source": [
    "DFS程式碼實現的部分\n",
    "也是先準備兩個list\n",
    "先把輸入的數字放進stack\n",
    "然後把stack最後面的數字放到answer裡面\n",
    "並把這個數所有有關連的都放進stack裡面\n",
    "並且重複上述的動作\n",
    "當stack裡面沒有數字以後就結束了"
   ]
  }
 ],
 "metadata": {
  "kernelspec": {
   "display_name": "Python 3",
   "language": "python",
   "name": "python3"
  },
  "language_info": {
   "codemirror_mode": {
    "name": "ipython",
    "version": 3
   },
   "file_extension": ".py",
   "mimetype": "text/x-python",
   "name": "python",
   "nbconvert_exporter": "python",
   "pygments_lexer": "ipython3",
   "version": "3.7.1"
  }
 },
 "nbformat": 4,
 "nbformat_minor": 2
}
