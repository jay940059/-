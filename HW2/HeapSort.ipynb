{
 "cells": [
  {
   "cell_type": "markdown",
   "metadata": {},
   "source": [
    "首先先建立一個函示，能夠讓隨機給出的list能夠建立Max Heapify<br/>\n",
    "也就是父元素不能比子元素小<br/>\n",
    "而我先讓兩個子元素做比較<br/>\n",
    "較大的再跟父元素做比較<br/>\n",
    "再比較的過程我們就會用到另外一個函示Push<br/>"
   ]
  },
  {
   "cell_type": "code",
   "execution_count": 15,
   "metadata": {},
   "outputs": [],
   "source": [
    "def Maxheap(data):\n",
    "    for i in range(len(data)-1,-1,-1): #從最後一個開始\n",
    "        if i%2 == 1 or i-1<=0: #如果是單數或是要最後一個就直接跳掉\n",
    "            continue\n",
    "        if data[i] > data[i-1]: #挑選哪一個子元素要跟父元素做比較\n",
    "            Push(data,int(i/2)-1,i)\n",
    "        else:\n",
    "            Push(data,int(i/2)-1,i-1)"
   ]
  },
  {
   "cell_type": "markdown",
   "metadata": {},
   "source": [
    "當遇到比較我們就用Push<br/>\n",
    "需輸入list,父元素跟子元素<br/>\n",
    "如果子元素較大就要跟父元素交換位置<br/>\n",
    "而交換了父元素後<br/>\n",
    "接下來就要看會不會影響到下面的元素<br/>\n",
    "所以又呼叫了另外一個函示Challenge<br/>"
   ]
  },
  {
   "cell_type": "code",
   "execution_count": 16,
   "metadata": {},
   "outputs": [],
   "source": [
    "def Push(data,x,y): #填入list,父元素位置，子元素位置\n",
    "    if data[x] < data [y]: #如果父元素小於子元素就交換\n",
    "        data[x],data[y] = data[y],data[x]\n",
    "        Challenge(data,y) #交換完要看需不需要跟新的子元素交換\n",
    "        return data\n",
    "    else:\n",
    "        return data"
   ]
  },
  {
   "cell_type": "markdown",
   "metadata": {},
   "source": [
    "當父元素跟子元素交換後，<br/>\n",
    "就來看新的子元素與會不會比他的子元素還要小<br/>\n",
    "因為是新來的父元素跟舊的子元素做比較<br/>\n",
    "我覺得這個過程很像在做挑戰<br/>\n",
    "所以取名為Challenge<br/>"
   ]
  },
  {
   "cell_type": "code",
   "execution_count": 17,
   "metadata": {},
   "outputs": [],
   "source": [
    "def Challenge(data,x): #填入list,要被挑戰的父元素\n",
    "    right = (x+1)*2 #右邊的子元素\n",
    "    left = right -1 #左邊的子元素\n",
    "    if len(data)-1<left: #假如左元素或右元素不存在直接回傳\n",
    "        return data\n",
    "    if len(data)-1>=right:\n",
    "        if data[right]>data[left]: #如果右元素大於左元素，就去跟父元素做比較\n",
    "            Push(data,x,right)\n",
    "            return(data)\n",
    "    Push(data,x,left) #左元素跟父元素做比較\n",
    "    return(data)"
   ]
  },
  {
   "cell_type": "markdown",
   "metadata": {},
   "source": [
    "主要程式的部分<br/>\n",
    "先設置一個answer 的 list<br/>\n",
    "然後先做Max Heapify的動作<br/>\n",
    "接下來就是運用Challenge一個一個挑出最大的list<br/>\n",
    "並把list第一個值(最大的)加進answer裡面<br/>"
   ]
  },
  {
   "cell_type": "code",
   "execution_count": 23,
   "metadata": {},
   "outputs": [],
   "source": [
    "class Solution(object):\n",
    "    \n",
    "    def heap_sort(self,data): \n",
    "        answer = [] #answer的list\n",
    "        Maxheap(data) #先做 Max Heapify的動作\n",
    "        while len(data) != 0: #只要list還有值就會繼續做\n",
    "            Challenge(data,0) #看第一個是不是最大的\n",
    "            data[0],data[-1] = data[-1],data[0] #把第一個值(最大的)跟最後一個做交換\n",
    "            answer.insert(0,data[-1]) #把最大的加到answer\n",
    "            data.pop(-1) #把最後一個去除掉\n",
    "            print (answer)\n",
    "        return answer"
   ]
  },
  {
   "cell_type": "code",
   "execution_count": 24,
   "metadata": {},
   "outputs": [
    {
     "name": "stdout",
     "output_type": "stream",
     "text": [
      "[80]\n",
      "[66, 80]\n",
      "[55, 66, 80]\n",
      "[50, 55, 66, 80]\n",
      "[45, 50, 55, 66, 80]\n",
      "[44, 45, 50, 55, 66, 80]\n",
      "[32, 44, 45, 50, 55, 66, 80]\n",
      "[2, 32, 44, 45, 50, 55, 66, 80]\n"
     ]
    },
    {
     "data": {
      "text/plain": [
       "[2, 32, 44, 45, 50, 55, 66, 80]"
      ]
     },
     "execution_count": 24,
     "metadata": {},
     "output_type": "execute_result"
    }
   ],
   "source": [
    "output = Solution().heap_sort([50,45,55,44,32,66,80,2])\n",
    "output"
   ]
  },
  {
   "cell_type": "markdown",
   "metadata": {},
   "source": [
    "參考網址 : https://www.youtube.com/watch?v=GnKHVXv_rlQ"
   ]
  }
 ],
 "metadata": {
  "kernelspec": {
   "display_name": "Python 3",
   "language": "python",
   "name": "python3"
  },
  "language_info": {
   "codemirror_mode": {
    "name": "ipython",
    "version": 3
   },
   "file_extension": ".py",
   "mimetype": "text/x-python",
   "name": "python",
   "nbconvert_exporter": "python",
   "pygments_lexer": "ipython3",
   "version": "3.7.1"
  }
 },
 "nbformat": 4,
 "nbformat_minor": 2
}
