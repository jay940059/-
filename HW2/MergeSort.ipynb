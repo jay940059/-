{
 "cells": [
  {
   "cell_type": "markdown",
   "metadata": {},
   "source": [
    "![title](img/mergesort.png)"
   ]
  },
  {
   "cell_type": "markdown",
   "metadata": {},
   "source": [
    "這個函式讓左右兩邊的List可以按照順序變成一個按照順序的List<br/>\n",
    "原本的寫法是另外在寫一個answer的list然後比較大小如果較小的就放進來<br/>\n",
    "但是那個寫法比較醜陋(?!)<br/>\n",
    "網路上參考到的這個寫法，寫得很簡單也很好理解，所以當我再自己寫寫看的時候也沒有遇到甚麼太大的問題<br/>"
   ]
  },
  {
   "cell_type": "code",
   "execution_count": null,
   "metadata": {},
   "outputs": [],
   "source": [
    "def Merge(self,left,right): #要填入兩個List\n",
    "        if len(left) == 0 and len(right) == 0: #如果兩個list都已經是空值了就直接回傳\n",
    "            return\n",
    "        if len(left) ==0: #如果左邊的list是0，就直接回傳右邊\n",
    "            return right\n",
    "        if len(right) == 0: #如果右邊的List是0，就直接回傳左邊\n",
    "            return left\n",
    "        if left[0]>right[0]: #如果左邊的第一個值大於右邊的值，就抓右邊的第一個並且變成list的值，再繼續Merge下去\n",
    "            return ([right[0]] + Solution().Merge(left,right[1:])) #記得要把抓下來的值加 [ ]才能變成list \n",
    "        else:\n",
    "            return ([left[0]] + Solution().Merge(left[1:],right)) #相反過來"
   ]
  },
  {
   "cell_type": "markdown",
   "metadata": {},
   "source": [
    "這裡是主要程式的部分，因為一直想不懂要如何做到不斷分割到只剩一個<br/>\n",
    "最後再開始合併，所以參考了網路上的做法。<br/>\n",
    "一開始看了以後還是很難理解為甚麼會分割完開始合併<br/>\n",
    "後來才理解到LeftPart的時候，會繼續分割，直到只剩下一個值的時候才開始跟右邊的合併<br/>\n",
    "這個方法是我之前根本沒有想到過的"
   ]
  },
  {
   "cell_type": "code",
   "execution_count": 11,
   "metadata": {},
   "outputs": [],
   "source": [
    "class Solution(object):\n",
    "     \n",
    "    def merge_sort(self,data): \n",
    "        if len(data) == 1: #如果list只有一個的時候就直接回傳data\n",
    "            return data\n",
    "        half = int(len(data)/2) #List的一半\n",
    "        left = data[0:half] #left是List左邊的區域\n",
    "        right = data[half:len(data)] #Right就是右邊\n",
    "        LeftPart = Solution().merge_sort(left) #繼續分割左邊的區域\n",
    "        RightPart = Solution().merge_sort(right) #繼續分割右邊的區域\n",
    "        return Solution().Merge(LeftPart,RightPart) #合併兩個"
   ]
  },
  {
   "cell_type": "markdown",
   "metadata": {},
   "source": [
    "參考網址 https://newaurora.pixnet.net/blog/post/224658923-%E5%90%88%E4%BD%B5%E6%8E%92%E5%BA%8F%E6%B3%95---%E4%BD%BF%E7%94%A8python"
   ]
  },
  {
   "cell_type": "code",
   "execution_count": 13,
   "metadata": {},
   "outputs": [
    {
     "data": {
      "text/plain": [
       "[2, 32, 44, 45, 50, 55, 66, 80]"
      ]
     },
     "execution_count": 13,
     "metadata": {},
     "output_type": "execute_result"
    }
   ],
   "source": [
    "output = Solution().merge_sort([50,45,55,44,32,66,80,2])\n",
    "output"
   ]
  }
 ],
 "metadata": {
  "kernelspec": {
   "display_name": "Python 3",
   "language": "python",
   "name": "python3"
  },
  "language_info": {
   "codemirror_mode": {
    "name": "ipython",
    "version": 3
   },
   "file_extension": ".py",
   "mimetype": "text/x-python",
   "name": "python",
   "nbconvert_exporter": "python",
   "pygments_lexer": "ipython3",
   "version": "3.7.1"
  }
 },
 "nbformat": 4,
 "nbformat_minor": 2
}
