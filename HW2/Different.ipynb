{
 "cells": [
  {
   "cell_type": "markdown",
   "metadata": {},
   "source": [
    "Heap Sort 跟 Merge Sort的差別<br/>\n",
    "我認為 Merge Sort的概念比較好理解，但要把想法實現在程式的部分會稍微困難一點<br/>\n",
    "因為要能夠理解如何把list不斷分割到最後，又開始全部合併起來<br/>\n",
    "我相信如果沒有參考網路上的做法是非常難想像的<br/>\n",
    "但當然我還是有乖乖思考過再自己寫一次<br/>\n",
    "而 Heap Sort 對我來說是一個很特別且新奇的結構，並沒有很好理解<br/>\n",
    "再理解的過程也重複畫了好幾次圖片以及看了各個元素在list上的位置<br/>\n",
    "因為參考過一些影片所以知道父元素跟子元素在位置上是有關係的<br/>\n",
    "所以再兩者(父元素跟子元素)互相比較且交換的過程會比較輕鬆<br/>\n",
    "\n",
    "至於兩者的效益比較好<br/>\n",
    "老實講我並不清楚<br/>\n",
    "網路上的說法也說要看狀況<br/>\n",
    "我個人認為如果是程式跑起來應該是Merge Sort 會比較快<br/>\n",
    "畢竟他的程式碼較少<br/>\n",
    "不像 Heap Sort 還要不斷檢查新的父元素跟舊的子元素哪個比較大，如果交換了又要再做另外一次比較"
   ]
  }
 ],
 "metadata": {
  "kernelspec": {
   "display_name": "Python 3",
   "language": "python",
   "name": "python3"
  },
  "language_info": {
   "codemirror_mode": {
    "name": "ipython",
    "version": 3
   },
   "file_extension": ".py",
   "mimetype": "text/x-python",
   "name": "python",
   "nbconvert_exporter": "python",
   "pygments_lexer": "ipython3",
   "version": "3.7.1"
  }
 },
 "nbformat": 4,
 "nbformat_minor": 2
}
